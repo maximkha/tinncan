{
 "cells": [
  {
   "cell_type": "code",
   "execution_count": 1,
   "source": [
    "import numpy as np\r\n",
    "from tensorflow import keras\r\n",
    "from tensorflow.keras import layers"
   ],
   "outputs": [],
   "metadata": {}
  },
  {
   "cell_type": "code",
   "execution_count": 2,
   "source": [
    "# Model / data parameters\r\n",
    "num_classes = 10\r\n",
    "input_shape = (28, 28, 1)\r\n",
    "\r\n",
    "# the data, split between train and test sets\r\n",
    "(x_train, y_train), (x_test, y_test) = keras.datasets.mnist.load_data()\r\n",
    "\r\n",
    "# Scale images to the [0, 1] range\r\n",
    "x_train = x_train.astype(\"float32\") / 255\r\n",
    "x_test = x_test.astype(\"float32\") / 255\r\n",
    "# Make sure images have shape (28, 28, 1)\r\n",
    "x_train = np.expand_dims(x_train, -1)\r\n",
    "x_test = np.expand_dims(x_test, -1)\r\n",
    "print(\"x_train shape:\", x_train.shape)\r\n",
    "print(x_train.shape[0], \"train samples\")\r\n",
    "print(x_test.shape[0], \"test samples\")\r\n",
    "\r\n",
    "# convert class vectors to binary class matrices\r\n",
    "y_train = keras.utils.to_categorical(y_train, num_classes)\r\n",
    "y_test = keras.utils.to_categorical(y_test, num_classes)"
   ],
   "outputs": [
    {
     "output_type": "stream",
     "name": "stdout",
     "text": [
      "x_train shape: (60000, 28, 28, 1)\n",
      "60000 train samples\n",
      "10000 test samples\n"
     ]
    }
   ],
   "metadata": {}
  },
  {
   "cell_type": "code",
   "execution_count": 3,
   "source": [
    "model = keras.Sequential(\r\n",
    "    [\r\n",
    "        keras.Input(shape=input_shape),\r\n",
    "        layers.Conv2D(5, kernel_size=(7, 7), strides=(7, 7), activation=\"relu\"),\r\n",
    "        layers.Permute((3, 2, 1)),\r\n",
    "        layers.Flatten(),\r\n",
    "        # layers.Dropout(0.5),\r\n",
    "        layers.Dense(num_classes, activation=\"softmax\"),\r\n",
    "    ]\r\n",
    ")\r\n"
   ],
   "outputs": [],
   "metadata": {}
  },
  {
   "cell_type": "code",
   "execution_count": 4,
   "source": [
    "model.summary()"
   ],
   "outputs": [
    {
     "output_type": "stream",
     "name": "stdout",
     "text": [
      "Model: \"sequential\"\n",
      "_________________________________________________________________\n",
      "Layer (type)                 Output Shape              Param #   \n",
      "=================================================================\n",
      "conv2d (Conv2D)              (None, 4, 4, 5)           250       \n",
      "_________________________________________________________________\n",
      "permute (Permute)            (None, 5, 4, 4)           0         \n",
      "_________________________________________________________________\n",
      "flatten (Flatten)            (None, 80)                0         \n",
      "_________________________________________________________________\n",
      "dense (Dense)                (None, 10)                810       \n",
      "=================================================================\n",
      "Total params: 1,060\n",
      "Trainable params: 1,060\n",
      "Non-trainable params: 0\n",
      "_________________________________________________________________\n"
     ]
    }
   ],
   "metadata": {}
  },
  {
   "cell_type": "code",
   "execution_count": 5,
   "source": [
    "model.compile(optimizer=\"Adam\", loss=\"categorical_crossentropy\", metrics=[\"accuracy\"])"
   ],
   "outputs": [],
   "metadata": {}
  },
  {
   "cell_type": "code",
   "execution_count": 6,
   "source": [
    "model.fit(x_train, y_train, validation_data=(x_test, y_test), epochs=10)"
   ],
   "outputs": [
    {
     "output_type": "stream",
     "name": "stdout",
     "text": [
      "Epoch 1/10\n",
      "1875/1875 [==============================] - 7s 3ms/step - loss: 0.6458 - accuracy: 0.8063 - val_loss: 0.3576 - val_accuracy: 0.8973\n",
      "Epoch 2/10\n",
      "1875/1875 [==============================] - 5s 3ms/step - loss: 0.3328 - accuracy: 0.9028 - val_loss: 0.2918 - val_accuracy: 0.9159\n",
      "Epoch 3/10\n",
      "1875/1875 [==============================] - 5s 3ms/step - loss: 0.2959 - accuracy: 0.9148 - val_loss: 0.2735 - val_accuracy: 0.9231\n",
      "Epoch 4/10\n",
      "1875/1875 [==============================] - 5s 3ms/step - loss: 0.2792 - accuracy: 0.9200 - val_loss: 0.2594 - val_accuracy: 0.9267\n",
      "Epoch 5/10\n",
      "1875/1875 [==============================] - 5s 3ms/step - loss: 0.2685 - accuracy: 0.9225 - val_loss: 0.2534 - val_accuracy: 0.9270\n",
      "Epoch 6/10\n",
      "1875/1875 [==============================] - 5s 3ms/step - loss: 0.2612 - accuracy: 0.9246 - val_loss: 0.2532 - val_accuracy: 0.9270\n",
      "Epoch 7/10\n",
      "1875/1875 [==============================] - 5s 3ms/step - loss: 0.2551 - accuracy: 0.9262 - val_loss: 0.2455 - val_accuracy: 0.9273\n",
      "Epoch 8/10\n",
      "1875/1875 [==============================] - 5s 3ms/step - loss: 0.2515 - accuracy: 0.9276 - val_loss: 0.2423 - val_accuracy: 0.9282\n",
      "Epoch 9/10\n",
      "1875/1875 [==============================] - 6s 3ms/step - loss: 0.2472 - accuracy: 0.9287 - val_loss: 0.2413 - val_accuracy: 0.9267\n",
      "Epoch 10/10\n",
      "1875/1875 [==============================] - 6s 3ms/step - loss: 0.2442 - accuracy: 0.9290 - val_loss: 0.2314 - val_accuracy: 0.9299\n"
     ]
    },
    {
     "output_type": "execute_result",
     "data": {
      "text/plain": [
       "<keras.callbacks.History at 0x126b96c2610>"
      ]
     },
     "metadata": {},
     "execution_count": 6
    }
   ],
   "metadata": {}
  },
  {
   "cell_type": "code",
   "execution_count": 7,
   "source": [
    "model.save('my_model.h5')"
   ],
   "outputs": [],
   "metadata": {}
  },
  {
   "cell_type": "code",
   "execution_count": null,
   "source": [],
   "outputs": [],
   "metadata": {}
  }
 ],
 "metadata": {
  "orig_nbformat": 4,
  "language_info": {
   "name": "python",
   "version": "3.8.0",
   "mimetype": "text/x-python",
   "codemirror_mode": {
    "name": "ipython",
    "version": 3
   },
   "pygments_lexer": "ipython3",
   "nbconvert_exporter": "python",
   "file_extension": ".py"
  },
  "kernelspec": {
   "name": "python3",
   "display_name": "Python 3.8.0 64-bit"
  },
  "interpreter": {
   "hash": "c4a6cc1c2df5ddd62d6925b2a7bdee9abacf912eab37272999970e810b9642fd"
  }
 },
 "nbformat": 4,
 "nbformat_minor": 2
}